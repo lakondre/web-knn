{
 "cells": [
  {
   "cell_type": "code",
   "execution_count": 1,
   "metadata": {},
   "outputs": [],
   "source": [
    "import os\n",
    "import cv2\n",
    "import numpy as np\n",
    "import joblib\n",
    "from sklearn.neighbors import KNeighborsClassifier\n",
    "from sklearn.model_selection import train_test_split\n"
   ]
  },
  {
   "cell_type": "code",
   "execution_count": 2,
   "metadata": {},
   "outputs": [],
   "source": [
    "def load_images_from_folder(folder, label):\n",
    "    images = []\n",
    "    labels = []\n",
    "    for filename in os.listdir(folder):\n",
    "        img = cv2.imread(os.path.join(folder, filename), cv2.IMREAD_GRAYSCALE)\n",
    "        if img is not None:\n",
    "            img = cv2.resize(img, (128, 128))  # Resize to a fixed size\n",
    "            images.append(img.flatten())  # Flatten the image\n",
    "            labels.append(label)\n",
    "    return images, labels"
   ]
  },
  {
   "cell_type": "code",
   "execution_count": 3,
   "metadata": {},
   "outputs": [],
   "source": [
    "def prepare_data():\n",
    "    cataract_images, cataract_labels = load_images_from_folder('Dataset/Katarak', 1)\n",
    "    normal_images, normal_labels = load_images_from_folder('Dataset/Normal', 0)\n",
    "    \n",
    "    images = np.array(cataract_images + normal_images)\n",
    "    labels = np.array(cataract_labels + normal_labels)\n",
    "    \n",
    "    return train_test_split(images, labels, test_size=0.2, random_state=42)"
   ]
  },
  {
   "cell_type": "code",
   "execution_count": 5,
   "metadata": {},
   "outputs": [],
   "source": [
    "def train_knn():\n",
    "    X_train, X_test, y_train, y_test = prepare_data()\n",
    "    knn = KNeighborsClassifier(n_neighbors=21)\n",
    "    knn.fit(X_train, y_train)\n",
    "    joblib.dump(knn, 'knn_model.joblib')\n",
    "\n",
    "if __name__ == '__main__':\n",
    "    train_knn()"
   ]
  }
 ],
 "metadata": {
  "kernelspec": {
   "display_name": "Python 3",
   "language": "python",
   "name": "python3"
  },
  "language_info": {
   "codemirror_mode": {
    "name": "ipython",
    "version": 3
   },
   "file_extension": ".py",
   "mimetype": "text/x-python",
   "name": "python",
   "nbconvert_exporter": "python",
   "pygments_lexer": "ipython3",
   "version": "3.12.4"
  }
 },
 "nbformat": 4,
 "nbformat_minor": 2
}
